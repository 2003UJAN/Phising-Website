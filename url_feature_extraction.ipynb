{
  "nbformat": 4,
  "nbformat_minor": 0,
  "metadata": {
    "colab": {
      "provenance": [],
      "authorship_tag": "ABX9TyNgFlObF2sye4+q9sCcpThW",
      "include_colab_link": true
    },
    "kernelspec": {
      "name": "python3",
      "display_name": "Python 3"
    },
    "language_info": {
      "name": "python"
    }
  },
  "cells": [
    {
      "cell_type": "markdown",
      "metadata": {
        "id": "view-in-github",
        "colab_type": "text"
      },
      "source": [
        "<a href=\"https://colab.research.google.com/github/2003UJAN/Phising-Website/blob/main/url_feature_extraction.ipynb\" target=\"_parent\"><img src=\"https://colab.research.google.com/assets/colab-badge.svg\" alt=\"Open In Colab\"/></a>"
      ]
    },
    {
      "cell_type": "code",
      "execution_count": 1,
      "metadata": {
        "id": "MVNluFGhdHhT"
      },
      "outputs": [],
      "source": [
        "#importing libraries\n",
        "import pandas as pd\n",
        "import numpy as np\n",
        "from sklearn.model_selection import train_test_split\n",
        "from sklearn.svm import SVC\n",
        "from sklearn.metrics import confusion_matrix, accuracy_score, precision_score, recall_score, roc_curve, auc, precision_recall_curve\n",
        "import matplotlib.pyplot as plt\n",
        "from sklearn.preprocessing import LabelEncoder\n",
        "from sklearn.utils import shuffle\n",
        "from urllib.parse import urlparse,parse_qs\n",
        "import csv\n",
        "from google.colab import files\n",
        "import requests\n",
        "from bs4 import BeautifulSoup\n",
        "from urllib.parse import urlparse\n"
      ]
    },
    {
      "cell_type": "code",
      "source": [
        "#loading the dataset\n",
        "data = pd.read_csv(\"/Phishing_Legitimate_full.csv\")"
      ],
      "metadata": {
        "id": "fYdbHbrvdRIO"
      },
      "execution_count": 2,
      "outputs": []
    },
    {
      "cell_type": "code",
      "source": [
        "#data pre-processing\n",
        "data = data.drop(data.columns[0], axis=1)\n",
        "data = shuffle(data)\n",
        "threshold = 0.9 * len(data)\n",
        "data = data.dropna(thresh=threshold, axis=1)"
      ],
      "metadata": {
        "id": "kb7ohypBdllW"
      },
      "execution_count": 3,
      "outputs": []
    },
    {
      "cell_type": "code",
      "source": [
        "first_row = data.iloc[0]"
      ],
      "metadata": {
        "id": "ou6SgGcmhOXJ"
      },
      "execution_count": 4,
      "outputs": []
    },
    {
      "cell_type": "code",
      "source": [
        "print(first_row)"
      ],
      "metadata": {
        "colab": {
          "base_uri": "https://localhost:8080/"
        },
        "id": "lAAsBXXCi8Gb",
        "outputId": "5d223cc7-7aaf-4c33-ec96-6feca10b7277"
      },
      "execution_count": 5,
      "outputs": [
        {
          "output_type": "stream",
          "name": "stdout",
          "text": [
            "NumDots                                3.000000\n",
            "SubdomainLevel                         1.000000\n",
            "PathLevel                              1.000000\n",
            "UrlLength                             80.000000\n",
            "NumDash                                0.000000\n",
            "NumDashInHostname                      0.000000\n",
            "AtSymbol                               0.000000\n",
            "TildeSymbol                            0.000000\n",
            "NumUnderscore                          0.000000\n",
            "NumPercent                             0.000000\n",
            "NumQueryComponents                     3.000000\n",
            "NumAmpersand                           2.000000\n",
            "NumHash                                0.000000\n",
            "NumNumericChars                       10.000000\n",
            "NoHttps                                1.000000\n",
            "RandomString                           0.000000\n",
            "IpAddress                              0.000000\n",
            "DomainInSubdomains                     0.000000\n",
            "DomainInPaths                          0.000000\n",
            "HttpsInHostname                        0.000000\n",
            "HostnameLength                        18.000000\n",
            "PathLength                            16.000000\n",
            "QueryLength                           38.000000\n",
            "DoubleSlashInPath                      0.000000\n",
            "NumSensitiveWords                      0.000000\n",
            "EmbeddedBrandName                      0.000000\n",
            "PctExtHyperlinks                       0.033923\n",
            "PctExtResourceUrls                     0.571429\n",
            "ExtFavicon                             0.000000\n",
            "InsecureForms                          1.000000\n",
            "RelativeFormAction                     0.000000\n",
            "ExtFormAction                          0.000000\n",
            "AbnormalFormAction                     0.000000\n",
            "PctNullSelfRedirectHyperlinks          0.000000\n",
            "FrequentDomainNameMismatch             0.000000\n",
            "FakeLinkInStatusBar                    0.000000\n",
            "RightClickDisabled                     0.000000\n",
            "PopUpWindow                            0.000000\n",
            "SubmitInfoToEmail                      1.000000\n",
            "IframeOrFrame                          1.000000\n",
            "MissingTitle                           0.000000\n",
            "ImagesOnlyInForm                       0.000000\n",
            "SubdomainLevelRT                       1.000000\n",
            "UrlLengthRT                           -1.000000\n",
            "PctExtResourceUrlsRT                  -1.000000\n",
            "AbnormalExtFormActionR                 1.000000\n",
            "ExtMetaScriptLinkRT                    0.000000\n",
            "PctExtNullSelfRedirectHyperlinksRT     1.000000\n",
            "CLASS_LABEL                            0.000000\n",
            "Name: 6652, dtype: float64\n"
          ]
        }
      ]
    },
    {
      "cell_type": "code",
      "source": [
        "urls = [\n",
        "    'https://www.nitk.ac.in/',\n",
        "    'https://www.meity.gov.in/',\n",
        "    'https://www.srmist.edu.in/'\n",
        "]"
      ],
      "metadata": {
        "id": "StH_RCNvkjhn"
      },
      "execution_count": 6,
      "outputs": []
    },
    {
      "cell_type": "code",
      "source": [
        "features={}"
      ],
      "metadata": {
        "id": "Hz2p86drOZqp"
      },
      "execution_count": 11,
      "outputs": []
    },
    {
      "cell_type": "code",
      "source": [
        "def extract_features(url):\n",
        "    parsed_url = urlparse(url)\n",
        "    query_params = parse_qs(parsed_url.query)\n",
        "     num_dots = parsed_url.hostname.count('.')\n",
        "    subdomain_level = len(parsed_url.hostname.split('.')) - 2\n",
        "    path_level = len(parsed_url.path.split('/')) - 1\n",
        "    url_length = len(url)\n",
        "    num_dash_in_hostname = any(char.isdigit() for char in parsed_url.hostname if char == '-')\n",
        "    has_at_symbol = '@' in url\n",
        "    has_tilde_symbol = '~' in url\n",
        "    num_underscore = url.count('_')\n",
        "    num_percent = url.count('%')\n",
        "    num_hash = url.count('#')\n",
        "    num_numeric_chars = sum(c.isdigit() for c in url)\n",
        "    query_components = parse_qs(parsed_url.query)\n",
        "    num_query_components = len(query_components)\n",
        "    num_ampersand = 0\n",
        "    for param in query_components:\n",
        "        num_ampersand += len(query_components[param]) - 1\n",
        "    no_https = not parsed_url.scheme == 'https'\n",
        "    random_string = parsed_url.path\n",
        "    ip_address = parsed_url.hostname if parsed_url.hostname.replace('.', '').isdigit() else None\n",
        "    subdomains = parsed_url.hostname.split('.')[:-2] if ip_address is None else None\n",
        "    path_segments = parsed_url.path.split('/')\n",
        "    domain_in_paths = None\n",
        "    for segment in path_segments:\n",
        "        if segment.count('.') >= 1:\n",
        "            domain_in_paths = segment.split('.')[0]\n",
        "            break\n",
        "    is_https = parsed_url.scheme == 'https'\n",
        "    hostname_length = len(parsed_url.hostname)\n",
        "    path_length = len(parsed_url.path)\n",
        "    query_length = len(parsed_url.query)\n",
        "    double_slash_in_path = '//' in parsed_url.path\n",
        "    url_words = url.lower().split('/')\n",
        "    num_sensitive_words = sum(word in sensitive_words for word in url_words)\n",
        "    response = requests.get(url)\n",
        "    if response.status_code == 200:\n",
        "        html_content = response.text\n",
        "        soup = BeautifulSoup(html_content, 'html.parser')\n",
        "    brand_name = 'YourBrandName'\n",
        "        brand_in_url = brand_name.lower() in url.lower()\n",
        "        brand_in_content = brand_name.lower() in soup.get_text().lower()\n",
        "        total_links = len(soup.find_all('a'))\n",
        "        ext_links = sum(1 for link in soup.find_all('a') if urlparse(link.get('href')).netloc != urlparse(url).netloc)\n",
        "        pct_ext_hyperlinks = (ext_links / total_links) * 100 if total_links > 0 else 0\n",
        "    total_resources = len(soup.find_all(['img', 'script', 'link']))\n",
        "        ext_resources = sum(1 for res in soup.find_all(['img', 'script', 'link']) if urlparse(res.get('src', '')).netloc != urlparse(url).netloc)\n",
        "        pct_ext_resources = (ext_resources / total_resources) * 100 if total_resources > 0 else 0\n",
        "    favicon_link = soup.find('link', rel='icon')\n",
        "        ext_favicon = False\n",
        "        if favicon_link:\n",
        "            favicon_url = favicon_link.get('href', '')\n",
        "            ext_favicon = urlparse(favicon_url).netloc != urlparse(url).netloc\n",
        "\n",
        "      response = requests.get(url)\n",
        "    if response.status_code == 200:\n",
        "        html_content = response.content\n",
        "        soup = BeautifulSoup(html_content, 'html.parser')\n",
        "      submit_info_to_email = bool(soup.find('form', attrs={'action': 'mailto:'}))\n",
        "\n",
        "        iframe_or_frame = bool(soup.find_all(['iframe', 'frame']))\n",
        "\n",
        "        missing_title = not bool(soup.find('title'))\n",
        "        parsed_url = urlparse(url)\n",
        "        subdomains = len(parsed_url.netloc.split('.'))\n",
        "\n",
        "        url_length = len(url)\n",
        "        scheme = parsed_url.scheme\n",
        "        netloc = parsed_url.netloc\n",
        "        path = parsed_url.path\n",
        "        query_params = parse_qs(parsed_url.query)\n",
        "\n",
        "    return {\n",
        "        'Domain': domain,\n",
        "        'NumDots': num_dots,\n",
        "        'SubdomainLevel': subdomain_level,\n",
        "        'PathLevel': path_level,\n",
        "        'UrlLength': url_length,\n",
        "        'NumDash': has_num_dash,\n",
        "        'NumDashInHostname': num_dash_in_hostname,\n",
        "        'AtSymbol': has_at_symbol,\n",
        "        'TildeSymbol': has_tilde_symbol,\n",
        "        'NumUnderscore': num_underscore,\n",
        "        'NumPercent': num_percent,\n",
        "        'NumQueryComponents': num_query_components,\n",
        "        'NumAmpersand': num_ampersand,\n",
        "        'NumHash': num_hash,\n",
        "        'NumNumericChars': num_numeric_chars,\n",
        "        'NoHttps': no_https,\n",
        "        'RandomString': random_string,\n",
        "        'IpAddress': ip_address,\n",
        "        'DomainInSubdomains': subdomains,\n",
        "        'DomainInPaths': domain_in_paths,\n",
        "        'HttpsInHostname': is_https,\n",
        "        'HostnameLength': hostname_length,\n",
        "        'PathLength': path_length,\n",
        "        'QueryLength': query_length,\n",
        "        'DoubleSlashInPath': double_slash_in_path,\n",
        "        'NumSensitiveWords': num_sensitive_words,\n",
        "        'EmbeddedBrandName': brand_in_url or brand_in_content,\n",
        "        'PctExtHyperlinks': pct_ext_hyperlinks,\n",
        "        'PctExtResourceUrls': pct_ext_resources,\n",
        "        'ExtFavicon': ext_favicon,\n",
        "        'SubmitInfoToEmail': submit_info_to_email,\n",
        "            'IframeOrFrame': iframe_or_frame,\n",
        "            'MissingTitle': missing_title,\n",
        "            'SubdomainLevelRT': subdomains,\n",
        "            'UrlLengthRT': url_length\n",
        "    }\n",
        "    print(f\"Scheme: {scheme}\")\n",
        "    print(f\"Netloc: {netloc}\")\n",
        "    print(f\"Path: {path}\")\n",
        "    print(f\"Query Parameters: {query_params}\")\n",
        "sensitive_words = ['sensitive', 'blacklisted', 'confidential']\n",
        "extracted_features = []\n",
        "for url in urls:\n",
        "    features = extract_features(url)\n",
        "    extracted_features.append(features)"
      ],
      "metadata": {
        "id": "83RJpqdikhQ-",
        "colab": {
          "base_uri": "https://localhost:8080/",
          "height": 141
        },
        "outputId": "29244bf6-0769-440f-8bdd-f8e8fcae13ae"
      },
      "execution_count": 19,
      "outputs": [
        {
          "output_type": "error",
          "ename": "IndentationError",
          "evalue": "ignored",
          "traceback": [
            "\u001b[0;36m  File \u001b[0;32m\"<tokenize>\"\u001b[0;36m, line \u001b[0;32m56\u001b[0m\n\u001b[0;31m    response = requests.get(url)\u001b[0m\n\u001b[0m    ^\u001b[0m\n\u001b[0;31mIndentationError\u001b[0m\u001b[0;31m:\u001b[0m unindent does not match any outer indentation level\n"
          ]
        }
      ]
    },
    {
      "cell_type": "code",
      "source": [
        "df = pd.DataFrame(extracted_features)"
      ],
      "metadata": {
        "id": "7rbhcljdly_8"
      },
      "execution_count": null,
      "outputs": []
    },
    {
      "cell_type": "code",
      "source": [
        "print(df)"
      ],
      "metadata": {
        "id": "CH5HWiwQl2Z3"
      },
      "execution_count": null,
      "outputs": []
    },
    {
      "cell_type": "code",
      "source": [
        "def save_to_csv(data, filename):\n",
        "    with open(filename, 'w', newline='') as csvfile:\n",
        "        fieldnames = ['Domain','DomainLength','NumSubdomains', 'Path', 'PathLength', 'NumPathSegments', 'NumDash','NumDashInHostname','AtSymbol',\n",
        "                      'TildeSymbol','NumUnderscore','NumPercent','NumQueryComponents', 'NumAmpersand', 'NumHash','NumNumericChars','NoHttps',\n",
        "                      'RandomString','IpAddress', 'DomainInSubdomains','DomainInPaths', 'HttpsInHostname','HostnameLength','PathLength'\n",
        "                       'QueryLength',' DoubleSlashInPath',' NumSensitiveWords',' EmbeddedBrandName','PctExtHyperlinks',' PctExtResourceUrls',' ExtFavicon'\n",
        "                      'InsecureForms','RelativeFormAction','ExtFormAction','AbnormalFormAction','PctNullSelfRedirectHyperlinks'\n",
        "                      ,'FrequentDomainNameMismatch','FakeLinkInStatusBar','RightClickDisabled','PopUpWindow','SubmitInfoToEmail','IframeOrFrame'\n",
        "                      ,'MissingTitle','ImagesOnlyInForm','SubdomainLevelRT','UrlLengthRT','PctExtResourceUrlsRT','AbnormalExtFormActionR'\n",
        "                      ,'ExtMetaScriptLinkRT','PctExtNullSelfRedirectHyperlinksRT' ]\n",
        "        writer = csv.DictWriter(csvfile, fieldnames=fieldnames)\n",
        "        writer.writeheader()\n",
        "        for row in data:\n",
        "            writer.writerow(row)"
      ],
      "metadata": {
        "id": "J5GfAQAJ9iDD"
      },
      "execution_count": null,
      "outputs": []
    },
    {
      "cell_type": "code",
      "source": [
        "csv_filename = 'url_features.csv'\n",
        "save_to_csv(extracted_features, csv_filename)\n",
        "print(f\"Features saved to '{csv_filename}'\")\n",
        "files.download(csv_filename)"
      ],
      "metadata": {
        "id": "8h1PeBEP_CnQ"
      },
      "execution_count": null,
      "outputs": []
    }
  ]
}