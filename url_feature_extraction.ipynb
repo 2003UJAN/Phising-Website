{
  "nbformat": 4,
  "nbformat_minor": 0,
  "metadata": {
    "colab": {
      "provenance": [],
      "authorship_tag": "ABX9TyNNjbbPF32q8GDC8waSrKjO",
      "include_colab_link": true
    },
    "kernelspec": {
      "name": "python3",
      "display_name": "Python 3"
    },
    "language_info": {
      "name": "python"
    }
  },
  "cells": [
    {
      "cell_type": "markdown",
      "metadata": {
        "id": "view-in-github",
        "colab_type": "text"
      },
      "source": [
        "<a href=\"https://colab.research.google.com/github/2003UJAN/Phising-Website/blob/main/url_feature_extraction.ipynb\" target=\"_parent\"><img src=\"https://colab.research.google.com/assets/colab-badge.svg\" alt=\"Open In Colab\"/></a>"
      ]
    },
    {
      "cell_type": "code",
      "execution_count": 48,
      "metadata": {
        "id": "MVNluFGhdHhT"
      },
      "outputs": [],
      "source": [
        "#importing libraries\n",
        "import pandas as pd\n",
        "import numpy as np\n",
        "from sklearn.model_selection import train_test_split\n",
        "from sklearn.svm import SVC\n",
        "from sklearn.metrics import confusion_matrix, accuracy_score, precision_score, recall_score, roc_curve, auc, precision_recall_curve\n",
        "import matplotlib.pyplot as plt\n",
        "from sklearn.preprocessing import LabelEncoder\n",
        "from sklearn.utils import shuffle\n",
        "from urllib.parse import urlparse,parse_qs\n",
        "import csv\n",
        "from google.colab import files"
      ]
    },
    {
      "cell_type": "code",
      "source": [
        "#loading the dataset\n",
        "data = pd.read_csv(\"/Phishing_Legitimate_full.csv\")"
      ],
      "metadata": {
        "id": "fYdbHbrvdRIO"
      },
      "execution_count": 49,
      "outputs": []
    },
    {
      "cell_type": "code",
      "source": [
        "#data pre-processing\n",
        "data = data.drop(data.columns[0], axis=1)\n",
        "data = shuffle(data)\n",
        "threshold = 0.9 * len(data)\n",
        "data = data.dropna(thresh=threshold, axis=1)"
      ],
      "metadata": {
        "id": "kb7ohypBdllW"
      },
      "execution_count": 50,
      "outputs": []
    },
    {
      "cell_type": "code",
      "source": [
        "first_row = data.iloc[0]"
      ],
      "metadata": {
        "id": "ou6SgGcmhOXJ"
      },
      "execution_count": 51,
      "outputs": []
    },
    {
      "cell_type": "code",
      "source": [
        "print(first_row)"
      ],
      "metadata": {
        "colab": {
          "base_uri": "https://localhost:8080/"
        },
        "id": "lAAsBXXCi8Gb",
        "outputId": "117b22b4-3d87-4d2c-f620-63266b80db6d"
      },
      "execution_count": 52,
      "outputs": [
        {
          "output_type": "stream",
          "name": "stdout",
          "text": [
            "NumDots                                1.000000\n",
            "SubdomainLevel                         0.000000\n",
            "PathLevel                              4.000000\n",
            "UrlLength                             74.000000\n",
            "NumDash                                3.000000\n",
            "NumDashInHostname                      0.000000\n",
            "AtSymbol                               0.000000\n",
            "TildeSymbol                            0.000000\n",
            "NumUnderscore                          0.000000\n",
            "NumPercent                             0.000000\n",
            "NumQueryComponents                     1.000000\n",
            "NumAmpersand                           0.000000\n",
            "NumHash                                0.000000\n",
            "NumNumericChars                        7.000000\n",
            "NoHttps                                1.000000\n",
            "RandomString                           1.000000\n",
            "IpAddress                              0.000000\n",
            "DomainInSubdomains                     0.000000\n",
            "DomainInPaths                          1.000000\n",
            "HttpsInHostname                        0.000000\n",
            "HostnameLength                        10.000000\n",
            "PathLength                            47.000000\n",
            "QueryLength                            9.000000\n",
            "DoubleSlashInPath                      0.000000\n",
            "NumSensitiveWords                      0.000000\n",
            "EmbeddedBrandName                      0.000000\n",
            "PctExtHyperlinks                       0.093567\n",
            "PctExtResourceUrls                     0.034483\n",
            "ExtFavicon                             0.000000\n",
            "InsecureForms                          1.000000\n",
            "RelativeFormAction                     0.000000\n",
            "ExtFormAction                          0.000000\n",
            "AbnormalFormAction                     0.000000\n",
            "PctNullSelfRedirectHyperlinks          0.000000\n",
            "FrequentDomainNameMismatch             0.000000\n",
            "FakeLinkInStatusBar                    0.000000\n",
            "RightClickDisabled                     0.000000\n",
            "PopUpWindow                            0.000000\n",
            "SubmitInfoToEmail                      1.000000\n",
            "IframeOrFrame                          0.000000\n",
            "MissingTitle                           0.000000\n",
            "ImagesOnlyInForm                       0.000000\n",
            "SubdomainLevelRT                       1.000000\n",
            "UrlLengthRT                            0.000000\n",
            "PctExtResourceUrlsRT                   1.000000\n",
            "AbnormalExtFormActionR                 1.000000\n",
            "ExtMetaScriptLinkRT                    0.000000\n",
            "PctExtNullSelfRedirectHyperlinksRT     1.000000\n",
            "CLASS_LABEL                            0.000000\n",
            "Name: 5535, dtype: float64\n"
          ]
        }
      ]
    },
    {
      "cell_type": "code",
      "source": [
        "urls = [\n",
        "    'https://www.nitk.ac.in/',\n",
        "    'https://www.meity.gov.in/',\n",
        "    'https://www.srmist.edu.in/'\n",
        "]"
      ],
      "metadata": {
        "id": "StH_RCNvkjhn"
      },
      "execution_count": 53,
      "outputs": []
    },
    {
      "cell_type": "code",
      "source": [
        "def extract_features(url):\n",
        "    parsed_url = urlparse(url)\n",
        "\n",
        "    domain = parsed_url.netloc\n",
        "    domain_parts = domain.split('.')\n",
        "    domain_length = len(domain)\n",
        "    num_subdomains = len(domain_parts) - 2 if len(domain_parts) > 2 else 0\n",
        "\n",
        "    path = parsed_url.path\n",
        "    path_length = len(path)\n",
        "    path_segments = path.split('/')\n",
        "    num_path_segments = len(path_segments) - 1 if path != '/' else 0\n",
        "    has_num_dash = any(char.isdigit() for char in parsed_url.path)\n",
        "\n",
        "\n",
        "    num_dash_in_hostname = any(char.isdigit() for char in parsed_url.hostname if char == '-')\n",
        "    has_at_symbol = '@' in url\n",
        "    has_tilde_symbol = '~' in url\n",
        "    num_underscore = url.count('_')\n",
        "    num_percent = url.count('%')\n",
        "    num_hash = url.count('#')\n",
        "    num_numeric_chars = sum(c.isdigit() for c in url)\n",
        "    query_components = parse_qs(parsed_url.query)\n",
        "    num_query_components = len(query_components)\n",
        "    num_ampersand = 0\n",
        "    for param in query_components:\n",
        "        num_ampersand += len(query_components[param]) - 1\n",
        "    no_https = not parsed_url.scheme == 'https'\n",
        "    random_string = parsed_url.path\n",
        "    ip_address = parsed_url.hostname if parsed_url.hostname.replace('.', '').isdigit() else None\n",
        "    subdomains = parsed_url.hostname.split('.')[:-2] if ip_address is None else None\n",
        "    path_segments = parsed_url.path.split('/')\n",
        "    domain_in_paths = None\n",
        "    for segment in path_segments:\n",
        "        if segment.count('.') >= 1:\n",
        "            domain_in_paths = segment.split('.')[0]\n",
        "            break\n",
        "    is_https = parsed_url.scheme == 'https'\n",
        "    hostname_length = len(parsed_url.hostname)\n",
        "\n",
        "    return {\n",
        "        'Domain': domain,\n",
        "        'DomainLength': domain_length,\n",
        "        'NumSubdomains': num_subdomains,\n",
        "        'Path': path,\n",
        "        'PathLength': path_length,\n",
        "        'NumPathSegments': num_path_segments,\n",
        "        'NumDash': has_num_dash,\n",
        "        'NumDashInHostname': num_dash_in_hostname,\n",
        "        'AtSymbol': has_at_symbol,\n",
        "        'TildeSymbol': has_tilde_symbol,\n",
        "        'NumUnderscore': num_underscore,\n",
        "        'NumPercent': num_percent,\n",
        "        'NumQueryComponents': num_query_components,\n",
        "        'NumAmpersand': num_ampersand,\n",
        "        'NumHash': num_hash,\n",
        "        'NumNumericChars': num_numeric_chars,\n",
        "        'NoHttps': no_https,\n",
        "        'RandomString': random_string,\n",
        "        'IpAddress': ip_address,\n",
        "        'DomainInSubdomains': subdomains,\n",
        "        'DomainInPaths': domain_in_paths,\n",
        "        'HttpsInHostname': is_https,\n",
        "        'HostnameLength': hostname_length,\n",
        "    }\n",
        "\n",
        "extracted_features = []\n",
        "for url in urls:\n",
        "    features = extract_features(url)\n",
        "    extracted_features.append(features)"
      ],
      "metadata": {
        "id": "83RJpqdikhQ-"
      },
      "execution_count": 54,
      "outputs": []
    },
    {
      "cell_type": "code",
      "source": [
        "df = pd.DataFrame(extracted_features)"
      ],
      "metadata": {
        "id": "7rbhcljdly_8"
      },
      "execution_count": 55,
      "outputs": []
    },
    {
      "cell_type": "code",
      "source": [
        "print(df)"
      ],
      "metadata": {
        "colab": {
          "base_uri": "https://localhost:8080/"
        },
        "id": "CH5HWiwQl2Z3",
        "outputId": "fa463c7c-81d2-43d6-830a-3cbda97b91f3"
      },
      "execution_count": 56,
      "outputs": [
        {
          "output_type": "stream",
          "name": "stdout",
          "text": [
            "              Domain  DomainLength  NumSubdomains Path  PathLength  \\\n",
            "0     www.nitk.ac.in            14              2    /           1   \n",
            "1   www.meity.gov.in            16              2    /           1   \n",
            "2  www.srmist.edu.in            17              2    /           1   \n",
            "\n",
            "   NumPathSegments  NumDash  NumDashInHostname  AtSymbol  TildeSymbol  ...  \\\n",
            "0                0    False              False     False        False  ...   \n",
            "1                0    False              False     False        False  ...   \n",
            "2                0    False              False     False        False  ...   \n",
            "\n",
            "   NumAmpersand  NumHash  NumNumericChars  NoHttps  RandomString  IpAddress  \\\n",
            "0             0        0                0    False             /       None   \n",
            "1             0        0                0    False             /       None   \n",
            "2             0        0                0    False             /       None   \n",
            "\n",
            "   DomainInSubdomains DomainInPaths HttpsInHostname HostnameLength  \n",
            "0         [www, nitk]          None            True             14  \n",
            "1        [www, meity]          None            True             16  \n",
            "2       [www, srmist]          None            True             17  \n",
            "\n",
            "[3 rows x 23 columns]\n"
          ]
        }
      ]
    },
    {
      "cell_type": "code",
      "source": [
        "def save_to_csv(data, filename):\n",
        "    with open(filename, 'w', newline='') as csvfile:\n",
        "        fieldnames = ['Domain','DomainLength','NumSubdomains', 'Path', 'PathLength', 'NumPathSegments', 'NumDash','NumDashInHostname','AtSymbol',\n",
        "                      'TildeSymbol','NumUnderscore','NumPercent','NumQueryComponents', 'NumAmpersand', 'NumHash','NumNumericChars','NoHttps',\n",
        "                      'RandomString','IpAddress', 'DomainInSubdomains','DomainInPaths', 'HttpsInHostname','HostnameLength']\n",
        "        writer = csv.DictWriter(csvfile, fieldnames=fieldnames)\n",
        "        writer.writeheader()\n",
        "        for row in data:\n",
        "            writer.writerow(row)"
      ],
      "metadata": {
        "id": "J5GfAQAJ9iDD"
      },
      "execution_count": 57,
      "outputs": []
    },
    {
      "cell_type": "code",
      "source": [
        "csv_filename = 'url_features.csv'\n",
        "save_to_csv(extracted_features, csv_filename)\n",
        "print(f\"Features saved to '{csv_filename}'\")\n",
        "files.download(csv_filename)"
      ],
      "metadata": {
        "colab": {
          "base_uri": "https://localhost:8080/",
          "height": 34
        },
        "id": "8h1PeBEP_CnQ",
        "outputId": "9916d656-cce4-4745-f03a-e90f7cf4f1a2"
      },
      "execution_count": 58,
      "outputs": [
        {
          "output_type": "stream",
          "name": "stdout",
          "text": [
            "Features saved to 'url_features.csv'\n"
          ]
        },
        {
          "output_type": "display_data",
          "data": {
            "text/plain": [
              "<IPython.core.display.Javascript object>"
            ],
            "application/javascript": [
              "\n",
              "    async function download(id, filename, size) {\n",
              "      if (!google.colab.kernel.accessAllowed) {\n",
              "        return;\n",
              "      }\n",
              "      const div = document.createElement('div');\n",
              "      const label = document.createElement('label');\n",
              "      label.textContent = `Downloading \"${filename}\": `;\n",
              "      div.appendChild(label);\n",
              "      const progress = document.createElement('progress');\n",
              "      progress.max = size;\n",
              "      div.appendChild(progress);\n",
              "      document.body.appendChild(div);\n",
              "\n",
              "      const buffers = [];\n",
              "      let downloaded = 0;\n",
              "\n",
              "      const channel = await google.colab.kernel.comms.open(id);\n",
              "      // Send a message to notify the kernel that we're ready.\n",
              "      channel.send({})\n",
              "\n",
              "      for await (const message of channel.messages) {\n",
              "        // Send a message to notify the kernel that we're ready.\n",
              "        channel.send({})\n",
              "        if (message.buffers) {\n",
              "          for (const buffer of message.buffers) {\n",
              "            buffers.push(buffer);\n",
              "            downloaded += buffer.byteLength;\n",
              "            progress.value = downloaded;\n",
              "          }\n",
              "        }\n",
              "      }\n",
              "      const blob = new Blob(buffers, {type: 'application/binary'});\n",
              "      const a = document.createElement('a');\n",
              "      a.href = window.URL.createObjectURL(blob);\n",
              "      a.download = filename;\n",
              "      div.appendChild(a);\n",
              "      a.click();\n",
              "      div.remove();\n",
              "    }\n",
              "  "
            ]
          },
          "metadata": {}
        },
        {
          "output_type": "display_data",
          "data": {
            "text/plain": [
              "<IPython.core.display.Javascript object>"
            ],
            "application/javascript": [
              "download(\"download_80becb78-3d2b-4d2c-b7af-96f5fba7e406\", \"url_features.csv\", 595)"
            ]
          },
          "metadata": {}
        }
      ]
    }
  ]
}