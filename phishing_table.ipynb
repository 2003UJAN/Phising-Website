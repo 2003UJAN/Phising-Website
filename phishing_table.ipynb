{
  "nbformat": 4,
  "nbformat_minor": 0,
  "metadata": {
    "colab": {
      "provenance": [],
      "authorship_tag": "ABX9TyOKvunmS3IEvjJIB1ZUOwdU",
      "include_colab_link": true
    },
    "kernelspec": {
      "name": "python3",
      "display_name": "Python 3"
    },
    "language_info": {
      "name": "python"
    }
  },
  "cells": [
    {
      "cell_type": "markdown",
      "metadata": {
        "id": "view-in-github",
        "colab_type": "text"
      },
      "source": [
        "<a href=\"https://colab.research.google.com/github/2003UJAN/Phising-Website/blob/main/phishing_table.ipynb\" target=\"_parent\"><img src=\"https://colab.research.google.com/assets/colab-badge.svg\" alt=\"Open In Colab\"/></a>"
      ]
    },
    {
      "cell_type": "code",
      "execution_count": null,
      "metadata": {
        "id": "9l9MHJdwLuUz"
      },
      "outputs": [],
      "source": [
        "import numpy as np\n",
        "import pandas as pd\n",
        "import scipy.stats as ss\n",
        "import matplotlib.pyplot as plt\n",
        "import seaborn as sns\n",
        "import math\n",
        "import warnings"
      ]
    },
    {
      "cell_type": "code",
      "source": [
        "data = pd.read_csv(\"/Phishing_Legitimate_full.csv\")"
      ],
      "metadata": {
        "id": "7SFFMv_KNZ9n"
      },
      "execution_count": null,
      "outputs": []
    },
    {
      "cell_type": "code",
      "source": [
        "data = data.iloc[:, 1:]  #"
      ],
      "metadata": {
        "id": "uwBKOxTeNhj3"
      },
      "execution_count": null,
      "outputs": []
    },
    {
      "cell_type": "code",
      "source": [
        "threshold = len(data) * 0.9"
      ],
      "metadata": {
        "id": "sfOCepg-N23B"
      },
      "execution_count": null,
      "outputs": []
    },
    {
      "cell_type": "code",
      "source": [
        "filtered_data = data.loc[:, data.apply(lambda col: col.value_counts().iloc[0] < threshold)]\n"
      ],
      "metadata": {
        "id": "hUqkKoRQODEM"
      },
      "execution_count": null,
      "outputs": []
    },
    {
      "cell_type": "code",
      "source": [
        "shuffled_data = filtered_data.sample(frac=1).reset_index(drop=True)"
      ],
      "metadata": {
        "id": "iQBrDLLXS3Cm"
      },
      "execution_count": null,
      "outputs": []
    },
    {
      "cell_type": "code",
      "source": [
        "data.info()"
      ],
      "metadata": {
        "colab": {
          "base_uri": "https://localhost:8080/"
        },
        "id": "v7V5SjUvWqxB",
        "outputId": "3a7ef286-eda1-4729-d5d8-552246c323a3"
      },
      "execution_count": null,
      "outputs": [
        {
          "output_type": "stream",
          "name": "stdout",
          "text": [
            "<class 'pandas.core.frame.DataFrame'>\n",
            "RangeIndex: 10000 entries, 0 to 9999\n",
            "Data columns (total 30 columns):\n",
            " #   Column                              Non-Null Count  Dtype  \n",
            "---  ------                              --------------  -----  \n",
            " 0   NumDots                             10000 non-null  int64  \n",
            " 1   SubdomainLevel                      10000 non-null  int64  \n",
            " 2   PathLevel                           10000 non-null  int64  \n",
            " 3   UrlLength                           10000 non-null  int64  \n",
            " 4   NumDash                             10000 non-null  int64  \n",
            " 5   NumUnderscore                       10000 non-null  int64  \n",
            " 6   NumQueryComponents                  10000 non-null  int64  \n",
            " 7   NumAmpersand                        10000 non-null  int64  \n",
            " 8   NumNumericChars                     10000 non-null  int64  \n",
            " 9   RandomString                        10000 non-null  int64  \n",
            " 10  DomainInPaths                       10000 non-null  int64  \n",
            " 11  HostnameLength                      10000 non-null  int64  \n",
            " 12  PathLength                          10000 non-null  int64  \n",
            " 13  QueryLength                         10000 non-null  int64  \n",
            " 14  PctExtHyperlinks                    10000 non-null  float64\n",
            " 15  PctExtResourceUrls                  10000 non-null  float64\n",
            " 16  ExtFavicon                          10000 non-null  int64  \n",
            " 17  InsecureForms                       10000 non-null  int64  \n",
            " 18  RelativeFormAction                  10000 non-null  int64  \n",
            " 19  ExtFormAction                       10000 non-null  int64  \n",
            " 20  PctNullSelfRedirectHyperlinks       10000 non-null  float64\n",
            " 21  FrequentDomainNameMismatch          10000 non-null  int64  \n",
            " 22  SubmitInfoToEmail                   10000 non-null  int64  \n",
            " 23  IframeOrFrame                       10000 non-null  int64  \n",
            " 24  UrlLengthRT                         10000 non-null  int64  \n",
            " 25  PctExtResourceUrlsRT                10000 non-null  int64  \n",
            " 26  AbnormalExtFormActionR              10000 non-null  int64  \n",
            " 27  ExtMetaScriptLinkRT                 10000 non-null  int64  \n",
            " 28  PctExtNullSelfRedirectHyperlinksRT  10000 non-null  int64  \n",
            " 29  CLASS_LABEL                         10000 non-null  int64  \n",
            "dtypes: float64(3), int64(27)\n",
            "memory usage: 2.3 MB\n"
          ]
        }
      ]
    },
    {
      "cell_type": "code",
      "source": [],
      "metadata": {
        "id": "5d_lX_LjXZvf"
      },
      "execution_count": null,
      "outputs": []
    }
  ]
}